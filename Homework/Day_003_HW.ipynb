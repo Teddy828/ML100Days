{
 "cells": [
  {
   "cell_type": "code",
   "execution_count": 1,
   "metadata": {},
   "outputs": [],
   "source": [
    "import numpy as np"
   ]
  },
  {
   "cell_type": "code",
   "execution_count": 3,
   "metadata": {},
   "outputs": [
    {
     "name": "stdout",
     "output_type": "stream",
     "text": [
      "60.0\n"
     ]
    }
   ],
   "source": [
    "#1.正常的談話的聲壓為20000微巴斯卡，請問多少分貝?\n",
    "def calculate_GdB(V1,V2):\n",
    "    GdB = 20*np.log10(V1/V2)\n",
    "    print(GdB)\n",
    "\n",
    "V1 = 20000\n",
    "V2 = 20\n",
    "\n",
    "calculate_GdB(V1,V2)"
   ]
  },
  {
   "cell_type": "code",
   "execution_count": 4,
   "metadata": {},
   "outputs": [
    {
     "name": "stdout",
     "output_type": "stream",
     "text": [
      "0.04722420199754459\n"
     ]
    }
   ],
   "source": [
    "def calculate_V1(GdB,V2):\n",
    "    V1 = np.power(((GdB+20*np.log10(V2))/20),10)\n",
    "    return (V1)\n",
    "a = calculate_V1(30,20)\n",
    "b = calculate_V1(50,20)\n",
    "print(a/b)"
   ]
  }
 ],
 "metadata": {
  "kernelspec": {
   "display_name": "Python 3",
   "language": "python",
   "name": "python3"
  },
  "language_info": {
   "codemirror_mode": {
    "name": "ipython",
    "version": 3
   },
   "file_extension": ".py",
   "mimetype": "text/x-python",
   "name": "python",
   "nbconvert_exporter": "python",
   "pygments_lexer": "ipython3",
   "version": "3.8.3"
  }
 },
 "nbformat": 4,
 "nbformat_minor": 4
}
